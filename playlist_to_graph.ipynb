{
 "cells": [
  {
   "cell_type": "code",
   "execution_count": 29,
   "metadata": {},
   "outputs": [],
   "source": [
    "def playlistToGraph(playlistId):\n",
    "    \n",
    "    playlist = spotify.get_resource(playlistId, resource_type='playlists') \n",
    "    tracks = playlist['tracks']['items']\n",
    "    nodes = []\n",
    "    links = []\n",
    "    \n",
    "    for track in tracks:\n",
    "        songArtists =[]\n",
    "        artists = track['track']['artists']\n",
    "        for artist in artists:\n",
    "            songArtists.append(artist['name'])\n",
    "            if artist['name'] not in nodes:\n",
    "                nodes.append(artist['name'])\n",
    "        \n",
    "        combs = list(combinations(songArtists,2))\n",
    "        if len(combs)>0:\n",
    "            for element in combs:\n",
    "                links.append(element)\n",
    "    return(nodes, links)"
   ]
  },
  {
   "cell_type": "code",
   "execution_count": 18,
   "metadata": {},
   "outputs": [],
   "source": [
    "from spotifyApp import *\n",
    "from time import sleep\n",
    "from json import dumps\n",
    "import numpy as np\n",
    "import matplotlib.pyplot as plt\n",
    "import seaborn as sns\n",
    "import networkx as nx\n",
    "from itertools import combinations"
   ]
  },
  {
   "cell_type": "code",
   "execution_count": 19,
   "metadata": {},
   "outputs": [],
   "source": [
    "client_ID = ",
    "client_Secret = "
   ]
  },
  {
   "cell_type": "code",
   "execution_count": 20,
   "metadata": {},
   "outputs": [],
   "source": [
    "\n",
    "spotify = SpotifyAPI(client_ID, client_Secret)"
   ]
  },
  {
   "cell_type": "code",
   "execution_count": 30,
   "metadata": {},
   "outputs": [],
   "source": [
    "nodes, links= playlistToGraph('03sDEv7FN58Mb9CJOs1Tgn')"
   ]
  },
  {
   "cell_type": "code",
   "execution_count": 31,
   "metadata": {},
   "outputs": [],
   "source": [
    "G = nx.Graph()\n",
    "G.add_nodes_from(node)"
   ]
  },
  {
   "cell_type": "code",
   "execution_count": 16,
   "metadata": {},
   "outputs": [
    {
     "data": {
      "text/plain": [
       "{}"
      ]
     },
     "execution_count": 16,
     "metadata": {},
     "output_type": "execute_result"
    }
   ],
   "source": [
    "spotify.get_resource('37i9dQZF1DWZjqjZMudx9T', resource_type='playlists')"
   ]
  },
  {
   "cell_type": "code",
   "execution_count": null,
   "metadata": {},
   "outputs": [],
   "source": []
  }
 ],
 "metadata": {
  "kernelspec": {
   "display_name": "Python 3",
   "language": "python",
   "name": "python3"
  },
  "language_info": {
   "codemirror_mode": {
    "name": "ipython",
    "version": 3
   },
   "file_extension": ".py",
   "mimetype": "text/x-python",
   "name": "python",
   "nbconvert_exporter": "python",
   "pygments_lexer": "ipython3",
   "version": "3.7.4"
  }
 },
 "nbformat": 4,
 "nbformat_minor": 2
}
